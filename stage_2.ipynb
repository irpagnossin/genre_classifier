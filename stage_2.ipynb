{
 "cells": [
  {
   "cell_type": "code",
   "execution_count": 4,
   "metadata": {
    "collapsed": false
   },
   "outputs": [],
   "source": [
    "import numpy as np\n",
    "import pickle\n",
    "from sklearn.cluster import KMeans\n",
    "from sklearn.metrics import silhouette_score\n",
    "from scipy.sparse import csr_matrix\n",
    "from configuration import *"
   ]
  },
  {
   "cell_type": "markdown",
   "metadata": {},
   "source": [
    "## Identificação dos gêneros musicais"
   ]
  },
  {
   "cell_type": "markdown",
   "metadata": {},
   "source": [
    "Carrega as amostras (espectro de cada trilha sonora) preparadas na etapa 1:"
   ]
  },
  {
   "cell_type": "code",
   "execution_count": 5,
   "metadata": {
    "collapsed": false
   },
   "outputs": [],
   "source": [
    "loader = np.load(TRACKS)\n",
    "X = csr_matrix((loader['data'], loader['indices'], loader['indptr']), shape = loader['shape']).toarray()"
   ]
  },
  {
   "cell_type": "code",
   "execution_count": 7,
   "metadata": {
    "collapsed": false
   },
   "outputs": [
    {
     "name": "stdout",
     "output_type": "stream",
     "text": [
      "5151 amostras x 1994 dimensões\n"
     ]
    }
   ],
   "source": [
    "n_samples, n_features = np.shape(X)\n",
    "print(\"{} amostras x {} dimensões\".format(n_samples, n_features))"
   ]
  },
  {
   "cell_type": "markdown",
   "metadata": {},
   "source": [
    "Antes de prosseguir, precisamos checar a validade dos dados de entrada. Isto é, precisamos verificar se (1) todos os dados são numéricos e (2) se eles pertencem ao intervalo fechado $[0,1]$."
   ]
  },
  {
   "cell_type": "code",
   "execution_count": 8,
   "metadata": {
    "collapsed": false
   },
   "outputs": [],
   "source": [
    "assert not np.all(np.isnan(X))\n",
    "assert np.max(X) <= 1.0\n",
    "assert np.min(X) >= 0.0"
   ]
  },
  {
   "cell_type": "markdown",
   "metadata": {},
   "source": [
    "Utilizamos o algoritmo [_k-means_](https://en.wikipedia.org/wiki/K-means_clustering) para agrupar as trilhas de áudio similares entre si (cada uma representada como um vetor $N$ dimensional num espaço euclidiano, onde $N$ é a quantidade de rádios presentes nas amostras e o valor de cada componente é a frequência relativa com que cada trilha de áudio foi executada nessa rádio). Isso é feito concomitantemente a uma [análise de silhueta](http://scikit-learn.org/stable/auto_examples/cluster/plot_kmeans_silhouette_analysis.html), que visa determinar a quantidade de gêneros (ie, _clusters_):"
   ]
  },
  {
   "cell_type": "code",
   "execution_count": 9,
   "metadata": {
    "collapsed": false
   },
   "outputs": [
    {
     "name": "stdout",
     "output_type": "stream",
     "text": [
      "2 clusters => score 0.06085\n",
      "3 clusters => score 0.02534\n",
      "4 clusters => score 0.01248\n",
      "5 clusters => score 0.02567\n",
      "6 clusters => score -0.01399\n",
      "7 clusters => score 0.01334\n",
      "8 clusters => score -0.00724\n",
      "9 clusters => score 0.03284\n",
      "# de gêneros escolhida: 2.\n"
     ]
    }
   ],
   "source": [
    "n_clusters_candidates = range(2,10) # A análise falha com apenas 1 cluster\n",
    "chosen_ng = -1 # \"ng\" significa \"quantidade (n) de gêneros\"\n",
    "chosen_ng_score = -1 # O valor mínimo do score no método da silhueta é -1\n",
    "chosen_ng_labels = np.zeros(shape=(n_samples))\n",
    "\n",
    "for n in n_clusters_candidates:\n",
    "    \n",
    "    # Executa k-means nas amostras\n",
    "    model = KMeans(n_clusters=n, random_state=10).fit(X)\n",
    "\n",
    "    # Determina o score médio (dentre os scores de cada amostra)\n",
    "    score = silhouette_score(X, model.labels_)\n",
    "    print(\"{0} clusters => score {1:.5f}\".format(n, score))\n",
    "    \n",
    "    # Seleciona a quantidade de clusters (gêneros) que apresenta o maior score\n",
    "    if (score > chosen_ng_score):\n",
    "        chosen_ng = n\n",
    "        chosen_ng_score = score\n",
    "        chosen_ng_labels = model.labels_\n",
    "\n",
    "\n",
    "if chosen_ng == -1:\n",
    "    print(\"O algoritmo não pôde identificar a quantidade de gêneros existentes.\")\n",
    "else:\n",
    "    print(\"# de gêneros escolhida: {}.\".format(chosen_ng))"
   ]
  },
  {
   "cell_type": "markdown",
   "metadata": {},
   "source": [
    "## Persistência do mapeamento track_id $\\to$ genre_id"
   ]
  },
  {
   "cell_type": "markdown",
   "metadata": {},
   "source": [
    "Carregando o arquivo com os track_ids em ordem"
   ]
  },
  {
   "cell_type": "code",
   "execution_count": 10,
   "metadata": {
    "collapsed": false
   },
   "outputs": [],
   "source": [
    "track_ids = pickle.load(file(TRACK_IDS, 'rb'))"
   ]
  },
  {
   "cell_type": "markdown",
   "metadata": {},
   "source": [
    "O dicionário abaixo associa cada track_id com o rótulo do gênero (_cluster_) do modelo selecionado na seção anterior:"
   ]
  },
  {
   "cell_type": "code",
   "execution_count": 11,
   "metadata": {
    "collapsed": true
   },
   "outputs": [],
   "source": [
    "mapper = dict(zip(track_ids, chosen_ng_labels))"
   ]
  },
  {
   "cell_type": "markdown",
   "metadata": {},
   "source": [
    "Salva o mapeamento track_id:genre_id em disco, de modo que possa ser facilmente utilizado para classificar as trilhas de áudio e as rádios no _data-frame_ original."
   ]
  },
  {
   "cell_type": "code",
   "execution_count": 12,
   "metadata": {
    "collapsed": false
   },
   "outputs": [],
   "source": [
    "pickle.dump(mapper, file(TRACK_GENRES_BINARY, 'wb'), pickle.HIGHEST_PROTOCOL)"
   ]
  },
  {
   "cell_type": "code",
   "execution_count": null,
   "metadata": {
    "collapsed": true
   },
   "outputs": [],
   "source": []
  }
 ],
 "metadata": {
  "anaconda-cloud": {},
  "kernelspec": {
   "display_name": "Python [conda root]",
   "language": "python",
   "name": "conda-root-py"
  },
  "language_info": {
   "codemirror_mode": {
    "name": "ipython",
    "version": 2
   },
   "file_extension": ".py",
   "mimetype": "text/x-python",
   "name": "python",
   "nbconvert_exporter": "python",
   "pygments_lexer": "ipython2",
   "version": "2.7.12"
  }
 },
 "nbformat": 4,
 "nbformat_minor": 1
}

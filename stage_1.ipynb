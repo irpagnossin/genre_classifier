{
 "cells": [
  {
   "cell_type": "markdown",
   "metadata": {},
   "source": [
    "# Etapa 1: o espectro das trilhas de áudio"
   ]
  },
  {
   "cell_type": "code",
   "execution_count": 27,
   "metadata": {
    "collapsed": true
   },
   "outputs": [],
   "source": [
    "from configuration import *\n",
    "from scipy.sparse import csr_matrix\n",
    "import numpy as np\n",
    "import pandas as pd\n",
    "import pickle\n",
    "import time\n",
    "\n",
    "%matplotlib inline"
   ]
  },
  {
   "cell_type": "code",
   "execution_count": 28,
   "metadata": {
    "collapsed": false
   },
   "outputs": [
    {
     "name": "stdout",
     "output_type": "stream",
     "text": [
      "Usaremos 10000 amostras.\n"
     ]
    }
   ],
   "source": [
    "print(\"Usaremos {} amostras.\".format(n_samples))"
   ]
  },
  {
   "cell_type": "code",
   "execution_count": 29,
   "metadata": {
    "collapsed": true
   },
   "outputs": [],
   "source": [
    "df = pd.read_csv(DETECTIONS, delimiter=\"|\", nrows=n_samples)"
   ]
  },
  {
   "cell_type": "code",
   "execution_count": 30,
   "metadata": {
    "collapsed": true
   },
   "outputs": [],
   "source": [
    "sources = np.sort(np.array(df['audio_source_id'].drop_duplicates()))"
   ]
  },
  {
   "cell_type": "code",
   "execution_count": 31,
   "metadata": {
    "collapsed": false
   },
   "outputs": [
    {
     "name": "stdout",
     "output_type": "stream",
     "text": [
      "Há 1994 rádios, dimensões ou features.\n"
     ]
    }
   ],
   "source": [
    "n_features = len(sources)\n",
    "print(\"Há {} rádios, dimensões ou features.\".format(n_features))"
   ]
  },
  {
   "cell_type": "markdown",
   "metadata": {},
   "source": [
    "### Reindexação das _features_ (rádios)"
   ]
  },
  {
   "cell_type": "code",
   "execution_count": 32,
   "metadata": {
    "collapsed": true
   },
   "outputs": [],
   "source": [
    "reindexing_map = dict(zip(sources,range(n_features)))"
   ]
  },
  {
   "cell_type": "code",
   "execution_count": 33,
   "metadata": {
    "collapsed": true
   },
   "outputs": [],
   "source": [
    "def reindex(source_id):\n",
    "    return reindexing_map[source_id]\n",
    "\n",
    "df['source_id'] = df['audio_source_id'].apply(reindex)"
   ]
  },
  {
   "cell_type": "markdown",
   "metadata": {},
   "source": [
    "### Espectros das trilhas de áudio"
   ]
  },
  {
   "cell_type": "code",
   "execution_count": 34,
   "metadata": {
    "collapsed": true
   },
   "outputs": [],
   "source": [
    "def construct_track_spectrum(track_id):\n",
    "    spectrum = np.zeros(shape=(n_features))\n",
    "    track = df[df['track_id'] == track_id].groupby(['source_id']).agg(['count'])['audio_source_id']\n",
    "    absolute_freq = track.sum()\n",
    "    track = track/absolute_freq\n",
    "    for idx, value in track.itertuples():\n",
    "        spectrum[idx] = value\n",
    "    return spectrum"
   ]
  },
  {
   "cell_type": "code",
   "execution_count": 35,
   "metadata": {
    "collapsed": true
   },
   "outputs": [],
   "source": [
    "track_ids = np.sort(np.array(df['track_id'].drop_duplicates()))"
   ]
  },
  {
   "cell_type": "code",
   "execution_count": 36,
   "metadata": {
    "collapsed": false
   },
   "outputs": [
    {
     "name": "stdout",
     "output_type": "stream",
     "text": [
      "Há 5151 músicas.\n"
     ]
    }
   ],
   "source": [
    "print(\"Há {} músicas.\".format(len(track_ids)))"
   ]
  },
  {
   "cell_type": "code",
   "execution_count": 37,
   "metadata": {
    "collapsed": false
   },
   "outputs": [
    {
     "name": "stdout",
     "output_type": "stream",
     "text": [
      "Levou 29.8 s para construir todos os espectros.\n"
     ]
    }
   ],
   "source": [
    "start = time.time()\n",
    "\n",
    "tracks = np.zeros(shape=(len(track_ids),n_features), dtype=np.float64)\n",
    "i = 0\n",
    "for track_id in track_ids:\n",
    "    tracks[i,:] = construct_track_spectrum(track_id)\n",
    "    i += 1\n",
    "\n",
    "end = time.time()\n",
    "print(\"Levou {0:.3} s para construir todos os espectros.\".format(end-start))"
   ]
  },
  {
   "cell_type": "markdown",
   "metadata": {},
   "source": [
    "###  Persistência dos espectros"
   ]
  },
  {
   "cell_type": "markdown",
   "metadata": {},
   "source": [
    "Persiste os espectros num formato compactado e apropriado para o algoritmo de classificação:"
   ]
  },
  {
   "cell_type": "code",
   "execution_count": 38,
   "metadata": {
    "collapsed": false
   },
   "outputs": [],
   "source": [
    "assert not np.any(np.isnan(tracks))\n",
    "assert np.max(tracks) <= 1.0\n",
    "assert np.min(tracks) >= 0.0"
   ]
  },
  {
   "cell_type": "code",
   "execution_count": 39,
   "metadata": {
    "collapsed": false
   },
   "outputs": [],
   "source": [
    "sparse_matrix = csr_matrix(tracks)\n",
    "np.savez(TRACKS,\n",
    "         data = sparse_matrix.data,\n",
    "         indices = sparse_matrix.indices,\n",
    "         indptr = sparse_matrix.indptr,\n",
    "         shape = sparse_matrix.shape)"
   ]
  },
  {
   "cell_type": "markdown",
   "metadata": {},
   "source": [
    "### Persistência dos track_ids"
   ]
  },
  {
   "cell_type": "markdown",
   "metadata": {},
   "source": [
    "A lista de track_ids ordenada será necessária no próximo estágio para associar cada track_id com um ID de gênero musical. Para não ter de criar novamente essa lista, salvamo-la em disco:"
   ]
  },
  {
   "cell_type": "code",
   "execution_count": 40,
   "metadata": {
    "collapsed": true
   },
   "outputs": [],
   "source": [
    "pickle.dump(track_ids, file(TRACK_IDS, 'wb'), pickle.HIGHEST_PROTOCOL)"
   ]
  },
  {
   "cell_type": "code",
   "execution_count": null,
   "metadata": {
    "collapsed": true
   },
   "outputs": [],
   "source": []
  }
 ],
 "metadata": {
  "anaconda-cloud": {},
  "kernelspec": {
   "display_name": "Python [conda root]",
   "language": "python",
   "name": "conda-root-py"
  },
  "language_info": {
   "codemirror_mode": {
    "name": "ipython",
    "version": 2
   },
   "file_extension": ".py",
   "mimetype": "text/x-python",
   "name": "python",
   "nbconvert_exporter": "python",
   "pygments_lexer": "ipython2",
   "version": "2.7.12"
  }
 },
 "nbformat": 4,
 "nbformat_minor": 1
}

{
 "cells": [
  {
   "cell_type": "markdown",
   "metadata": {},
   "source": [
    "# Etapa 1: o espectro das trilhas de áudio"
   ]
  },
  {
   "cell_type": "code",
   "execution_count": 1,
   "metadata": {
    "collapsed": true
   },
   "outputs": [],
   "source": [
    "from configuration import *\n",
    "from scipy.sparse import csr_matrix\n",
    "import numpy as np\n",
    "import pandas as pd\n",
    "import pickle\n",
    "import time\n",
    "\n",
    "#%matplotlib inline"
   ]
  },
  {
   "cell_type": "code",
   "execution_count": 2,
   "metadata": {
    "collapsed": false
   },
   "outputs": [
    {
     "name": "stdout",
     "output_type": "stream",
     "text": [
      "Usaremos 5000 registros.\n"
     ]
    }
   ],
   "source": [
    "#df = pd.read_csv(DETECTIONS, delimiter=\"|\", nrows=n_records)\n",
    "df = pd.read_csv('tests/2-tracks_6-features.csv')\n",
    "\n",
    "if not n_records:\n",
    "    n_records = len(df)\n",
    "\n",
    "print(\"Usaremos {} registros.\".format(n_records))"
   ]
  },
  {
   "cell_type": "markdown",
   "metadata": {},
   "source": [
    "O espectro de cada trilha de áudio pode ser obtido criando uma tabela pivô, agrupando os dados nas linhas por <code>track_id</code>, as colunas por <code>audio_source_id</code> e contabilizando as ocorrências (coluna <code>created_at</code>) como função de agregação. Como resultado, a tabela pivô apresentará as <code>track_id</code> nas linhas (sem repetição) e a quantidade de vezes em que ela foi tocada em cada rádio, nas colunas."
   ]
  },
  {
   "cell_type": "code",
   "execution_count": 3,
   "metadata": {
    "collapsed": true
   },
   "outputs": [],
   "source": [
    "start = time.time()\n",
    "\n",
    "pt = pd.pivot_table(df,\n",
    "                    values='created_at',\n",
    "                    index='track_id',\n",
    "                    columns=['audio_source_id'],\n",
    "                    aggfunc='count',\n",
    "                    fill_value=0)"
   ]
  },
  {
   "cell_type": "markdown",
   "metadata": {},
   "source": [
    "O código abaixo interpreta a tabela pivô como uma matriz e transforma-a para frequências relativas:"
   ]
  },
  {
   "cell_type": "code",
   "execution_count": 4,
   "metadata": {
    "collapsed": true
   },
   "outputs": [],
   "source": [
    "b = pt.as_matrix()\n",
    "tracks = np.divide(b, np.sum(b, axis=1, dtype=np.float64)[:, np.newaxis])"
   ]
  },
  {
   "cell_type": "code",
   "execution_count": 6,
   "metadata": {
    "collapsed": false
   },
   "outputs": [
    {
     "data": {
      "text/plain": [
       "array([[3, 2, 4, 0, 3, 0],\n",
       "       [0, 0, 0, 8, 0, 4]])"
      ]
     },
     "execution_count": 6,
     "metadata": {},
     "output_type": "execute_result"
    }
   ],
   "source": [
    "b"
   ]
  },
  {
   "cell_type": "code",
   "execution_count": 25,
   "metadata": {
    "collapsed": false
   },
   "outputs": [
    {
     "name": "stdout",
     "output_type": "stream",
     "text": [
      "Levou 9.49830007553 s para calcular todos os espectros.\n"
     ]
    }
   ],
   "source": [
    "end = time.time()\n",
    "print(\"Levou {} s para calcular todos os espectros.\".format(end-start))"
   ]
  },
  {
   "cell_type": "code",
   "execution_count": 15,
   "metadata": {
    "collapsed": false
   },
   "outputs": [
    {
     "name": "stdout",
     "output_type": "stream",
     "text": [
      "2 amostras x 6 dimensões (features).\n"
     ]
    }
   ],
   "source": [
    "n_samples, n_features = np.shape(tracks)\n",
    "print(\"{} amostras x {} dimensões (features).\".format(n_samples, n_features))"
   ]
  },
  {
   "cell_type": "markdown",
   "metadata": {},
   "source": [
    "###  Persistência dos espectros"
   ]
  },
  {
   "cell_type": "markdown",
   "metadata": {},
   "source": [
    "Persiste os espectros num formato compactado e apropriado para o algoritmo de classificação:"
   ]
  },
  {
   "cell_type": "code",
   "execution_count": 16,
   "metadata": {
    "collapsed": false
   },
   "outputs": [],
   "source": [
    "assert not np.any(np.isnan(tracks))\n",
    "assert np.max(tracks) <= 1.0\n",
    "assert np.min(tracks) >= 0.0"
   ]
  },
  {
   "cell_type": "code",
   "execution_count": 17,
   "metadata": {
    "collapsed": false
   },
   "outputs": [],
   "source": [
    "sparse_matrix = csr_matrix(tracks)\n",
    "np.savez(TRACKS,\n",
    "         data = sparse_matrix.data,\n",
    "         indices = sparse_matrix.indices,\n",
    "         indptr = sparse_matrix.indptr,\n",
    "         shape = sparse_matrix.shape)"
   ]
  },
  {
   "cell_type": "markdown",
   "metadata": {},
   "source": [
    "### Persistência dos track_ids"
   ]
  },
  {
   "cell_type": "markdown",
   "metadata": {},
   "source": [
    "A lista de track_ids ordenada será necessária no próximo estágio para associar cada track_id com um ID de gênero musical. Para não ter de criar novamente essa lista, salvamo-la em disco:"
   ]
  },
  {
   "cell_type": "code",
   "execution_count": 18,
   "metadata": {
    "collapsed": true
   },
   "outputs": [],
   "source": [
    "pickle.dump(pt.index, file(TRACK_IDS, 'wb'), pickle.HIGHEST_PROTOCOL)"
   ]
  },
  {
   "cell_type": "code",
   "execution_count": null,
   "metadata": {
    "collapsed": true
   },
   "outputs": [],
   "source": []
  }
 ],
 "metadata": {
  "anaconda-cloud": {},
  "kernelspec": {
   "display_name": "Python [conda root]",
   "language": "python",
   "name": "conda-root-py"
  },
  "language_info": {
   "codemirror_mode": {
    "name": "ipython",
    "version": 2
   },
   "file_extension": ".py",
   "mimetype": "text/x-python",
   "name": "python",
   "nbconvert_exporter": "python",
   "pygments_lexer": "ipython2",
   "version": "2.7.12"
  }
 },
 "nbformat": 4,
 "nbformat_minor": 1
}
